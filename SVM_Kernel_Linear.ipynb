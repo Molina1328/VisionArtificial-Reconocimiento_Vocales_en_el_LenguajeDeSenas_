{
 "cells": [
  {
   "cell_type": "markdown",
   "id": "e09df28c",
   "metadata": {
    "id": "e09df28c"
   },
   "source": [
    " <h1><center> <font color='green'>Implementación del modelo SVM-Kernel Linear </font></center></h1> "
   ]
  },
  {
   "cell_type": "markdown",
   "id": "1f91dbb5",
   "metadata": {
    "id": "1f91dbb5"
   },
   "source": [
    " <h1><center> <font color='blue'>Librerías</font></center></h1> \n"
   ]
  },
  {
   "cell_type": "code",
   "execution_count": 1,
   "id": "0bca6fac",
   "metadata": {
    "id": "0bca6fac"
   },
   "outputs": [],
   "source": [
    "'''Librería para  formato de datos jerárquico que se usa en el NILMTK como fuente datos'''\n",
    "import h5py\n",
    "'''Librería para calculo numerico'''\n",
    "import numpy as np\n",
    "'''Librería para gráficas'''\n",
    "import matplotlib.pyplot as plt\n",
    "'''Importa para dividir el conjunto de datos en entrenamiento y prueba'''\n",
    "from sklearn.model_selection import train_test_split\n",
    "'''Clase para  evaluar y seleccionar los parámetros de un modelo'''\n",
    "from sklearn.model_selection import GridSearchCV\n",
    "'''Librería para utilizar el modelo SVM'''\n",
    "from sklearn import svm\n",
    "'''Librería que que ofrece metricas'''\n",
    "from sklearn.metrics import accuracy_score, precision_score, recall_score, f1_score, make_scorer\n",
    "'''Clase para determinar la matriz de confusión'''\n",
    "from sklearn.metrics import confusion_matrix\n",
    "'''Graficar la matriz de confusión'''\n",
    "from sklearn.metrics import plot_confusion_matrix\n",
    "'''Librería para validación cruzada para evaluación'''\n",
    "from sklearn.model_selection import cross_validate, KFold"
   ]
  },
  {
   "cell_type": "markdown",
   "id": "982c6a61",
   "metadata": {
    "id": "982c6a61"
   },
   "source": [
    " <h1><center> <font color='orange'>Carga de los archivos de datos en Formato de Datos Jerárquicos HDF</font></center></h1> "
   ]
  },
  {
   "cell_type": "code",
   "execution_count": 2,
   "id": "52e3de28",
   "metadata": {
    "id": "52e3de28"
   },
   "outputs": [],
   "source": [
    "'''Selección de caracteristicas'''\n",
    "h5_color     = r'C:\\Users\\Joelv\\Documents\\Mineria de Datos\\U3\\Proyecto\\COMPUTER VISION- RECOGNITION OF VOWELS IN SIGN LANGUAGE\\CaracteristicasVocales\\Color\\caracteristicas_color.h5'\n",
    "'''Selección de etiquetas'''\n",
    "h5_colorLb   = r'C:\\Users\\Joelv\\Documents\\Mineria de Datos\\U3\\Proyecto\\COMPUTER VISION- RECOGNITION OF VOWELS IN SIGN LANGUAGE\\CaracteristicasVocales\\Color\\caracteristicas_etiquetas_color.h5'\n",
    "'''Puntuación'''\n",
    "scoring      = {'accuracy' : make_scorer(accuracy_score),\n",
    "                'f1_score' : make_scorer(f1_score, average = 'weighted'), \n",
    "                'precision' : make_scorer(precision_score, average = 'weighted'),\n",
    "                'recall' : make_scorer(recall_score, average = 'weighted')}"
   ]
  },
  {
   "cell_type": "markdown",
   "id": "6e906e96",
   "metadata": {
    "id": "6e906e96"
   },
   "source": [
    "<h1> <center>Lectura de Caracteristicas y etiquetas<center>"
   ]
  },
  {
   "cell_type": "code",
   "execution_count": 3,
   "id": "7b9f2d48",
   "metadata": {
    "colab": {
     "base_uri": "https://localhost:8080/"
    },
    "id": "7b9f2d48",
    "outputId": "9e0a6e32-de35-4788-f145-5200d9e53d25"
   },
   "outputs": [
    {
     "name": "stdout",
     "output_type": "stream",
     "text": [
      "[STATUS] features shape: (1000, 512)\n",
      "[STATUS] labels shape: (1000,)\n",
      "[STATUS] Comenzó el modelamiento...\n"
     ]
    }
   ],
   "source": [
    "'''Importar el vector de características y las etiquetas entrenadas'''\n",
    "h5f_color   = h5py.File(h5_color, 'r')\n",
    "h5f_colorLb = h5py.File(h5_colorLb, 'r')\n",
    "\n",
    "'''Cadena de características de color'''\n",
    "color_features_string          = h5f_color['Caracteristicas_Color_Vocales']\n",
    "'''Cadena de características de etiqueta de color'''\n",
    "color_features_labels_string   = h5f_colorLb['Caracteristicas_Etiquetas_Vocales']\n",
    "\n",
    "'''Matriz de cadena características '''\n",
    "color_features = np.array(color_features_string)\n",
    "'''Matriz de cadena características de etiqueta'''\n",
    "color_features_labels  = np.array(color_features_labels_string)\n",
    "\n",
    "'''Cerrar los identificadores h5f'''\n",
    "h5f_color.close()\n",
    "h5f_colorLb.close()\n",
    "\n",
    "'''Verificar la forma del vector de características y las etiquetas'''\n",
    "print(\"[STATUS] features shape: {}\".format(color_features.shape))\n",
    "print(\"[STATUS] labels shape: {}\".format(color_features_labels.shape))\n",
    "\n",
    "'''Estado'''\n",
    "print(\"[STATUS] Comenzó el modelamiento...\")"
   ]
  },
  {
   "cell_type": "code",
   "execution_count": 4,
   "id": "5f7acf3a",
   "metadata": {
    "colab": {
     "base_uri": "https://localhost:8080/"
    },
    "id": "5f7acf3a",
    "outputId": "646e71ca-a7c7-45e8-c9c0-1c569927a49f"
   },
   "outputs": [
    {
     "name": "stdout",
     "output_type": "stream",
     "text": [
      "[STATUS] features shape: (1000, 512)\n"
     ]
    }
   ],
   "source": [
    "'''Apilar matrices en secuencia horizontal'''\n",
    "global_features = np.hstack([color_features])\n",
    "'''Impresion del estado'''\n",
    "print(\"[STATUS] features shape: {}\".format(global_features.shape))"
   ]
  },
  {
   "cell_type": "markdown",
   "id": "0bca0543",
   "metadata": {
    "id": "0bca0543"
   },
   "source": [
    "<h2>Indentificación de X, y"
   ]
  },
  {
   "cell_type": "code",
   "execution_count": 5,
   "id": "e57aaf51",
   "metadata": {
    "id": "e57aaf51"
   },
   "outputs": [],
   "source": [
    "'''Variable para Caracteristicas'''\n",
    "X = global_features\n",
    "'''Variable para Etiqueta'''\n",
    "Y = color_features_labels"
   ]
  },
  {
   "cell_type": "markdown",
   "id": "230295ee",
   "metadata": {
    "id": "230295ee"
   },
   "source": [
    "<h2>Definición del conjunto de datos para pruebas y entrenamiento"
   ]
  },
  {
   "cell_type": "code",
   "execution_count": 6,
   "id": "d564d291",
   "metadata": {
    "colab": {
     "base_uri": "https://localhost:8080/"
    },
    "id": "d564d291",
    "outputId": "d8dbb360-4fc6-4df2-94b8-90e07da421c3"
   },
   "outputs": [
    {
     "data": {
      "text/plain": [
       "((800, 512), (200, 512))"
      ]
     },
     "execution_count": 6,
     "metadata": {},
     "output_type": "execute_result"
    }
   ],
   "source": [
    "'''Se divide el conjunto de datos en 80% para entrenamiento y 20% para prueba'''\n",
    "X_train, X_test, y_train, y_test = train_test_split(X, Y,\n",
    "                                                    test_size   = 0.20,\n",
    "                                                    random_state = 9)\n",
    "\n",
    "'''Tamaño del array en X_train y X_test'''\n",
    "X_train.shape, X_test.shape"
   ]
  },
  {
   "cell_type": "markdown",
   "id": "d3b945c9",
   "metadata": {
    "id": "d3b945c9"
   },
   "source": [
    " <h1><center> <font color='purple'>Implementación del modelo SVM-Linear_Kernel</font></center></h1> "
   ]
  },
  {
   "cell_type": "markdown",
   "id": "3db3dcad",
   "metadata": {
    "id": "3db3dcad"
   },
   "source": [
    "<h2> Definición del kernel Linear"
   ]
  },
  {
   "cell_type": "code",
   "execution_count": 7,
   "id": "f46c9816",
   "metadata": {
    "id": "f46c9816"
   },
   "outputs": [],
   "source": [
    "'''Cuadrícula de parámetros lineales'''\n",
    "linear_param_grid = {    \n",
    "        \"kernel\": [\"linear\"],\n",
    "        \"C\": [0.0001, 0.001, 0.1, 1, 10, 100, 1000],\n",
    "        \"decision_function_shape\": ['ovo', 'ovr']\n",
    "}"
   ]
  },
  {
   "cell_type": "markdown",
   "id": "eabaa1f5",
   "metadata": {
    "id": "eabaa1f5"
   },
   "source": [
    "<h1>Implementación del modelo\n"
   ]
  },
  {
   "cell_type": "code",
   "execution_count": 8,
   "id": "3869986c",
   "metadata": {
    "colab": {
     "base_uri": "https://localhost:8080/"
    },
    "id": "3869986c",
    "outputId": "013b3b02-d9d2-46cb-b18d-bcddee5024fa"
   },
   "outputs": [
    {
     "name": "stdout",
     "output_type": "stream",
     "text": [
      "SVC(C=10, decision_function_shape='ovo', kernel='linear')\n"
     ]
    }
   ],
   "source": [
    "'''Ajuste de hiperparámetros SVM mediante GridSearchCV'''\n",
    "linear_grid = GridSearchCV(svm.SVC(), linear_param_grid)\n",
    "'''Entrenamiento'''\n",
    "linear_grid.fit(X_train,y_train)\n",
    "'''Impresión de estimador'''\n",
    "print(linear_grid.best_estimator_)"
   ]
  },
  {
   "cell_type": "markdown",
   "id": "TV3uvlMZxuH9",
   "metadata": {
    "id": "TV3uvlMZxuH9"
   },
   "source": [
    "<h1> Predicción"
   ]
  },
  {
   "cell_type": "code",
   "execution_count": 9,
   "id": "c535ecd8",
   "metadata": {
    "colab": {
     "base_uri": "https://localhost:8080/"
    },
    "id": "c535ecd8",
    "outputId": "c5c477ab-2022-4b05-e53a-e3b194d0b07c"
   },
   "outputs": [
    {
     "name": "stdout",
     "output_type": "stream",
     "text": [
      "Accuracy (Linear Kernel):  94.00\n",
      "F1 (Linear Kernel):  93.90\n",
      "Precision (Linear Kernel):  93.96\n",
      "Recall (Linear Kernel):  94.00\n"
     ]
    }
   ],
   "source": [
    "'''Predección para el valor futuro de la prueba'''\n",
    "linear_pred = linear_grid.predict(X_test)\n",
    "'''Métrica de Exactitud'''\n",
    "linear_accuracy = accuracy_score(y_test, linear_pred)\n",
    "'''Métrica de precisión'''\n",
    "linear_precision = precision_score(y_test, linear_pred, average='weighted')\n",
    "'''Métrica de Sensibilidad'''\n",
    "linear_recall = recall_score(y_test, linear_pred, average='weighted')\n",
    "'''Métrica de Puntuación f1'''\n",
    "linear_f1 = f1_score(y_test, linear_pred, average='weighted')\n",
    "print('Accuracy (Linear Kernel): ', \"%.2f\" % (linear_accuracy*100))\n",
    "print('F1 (Linear Kernel): ', \"%.2f\" % (linear_f1*100))\n",
    "print('Precision (Linear Kernel): ', \"%.2f\" % (linear_precision*100))\n",
    "print('Recall (Linear Kernel): ', \"%.2f\" % (linear_recall*100))"
   ]
  },
  {
   "cell_type": "markdown",
   "id": "Xbfx6pH0x5kB",
   "metadata": {
    "id": "Xbfx6pH0x5kB"
   },
   "source": [
    "<h1> Métricas"
   ]
  },
  {
   "cell_type": "code",
   "execution_count": 10,
   "id": "6568232b",
   "metadata": {
    "colab": {
     "base_uri": "https://localhost:8080/"
    },
    "id": "6568232b",
    "outputId": "e069534a-d43a-4c6c-afb9-aefd84f754bf"
   },
   "outputs": [
    {
     "name": "stdout",
     "output_type": "stream",
     "text": [
      "Accuracy (Linear Kernel):  95.00\n",
      "F1 (Linear Kernel):  94.98\n",
      "Precision (Linear Kernel):  95.07\n",
      "Recall (Linear Kernel):  95.00\n"
     ]
    }
   ],
   "source": [
    "'''Validación cruzada'''\n",
    "results = cross_validate(estimator=linear_grid, X=X_train, y=y_train, scoring=scoring)\n",
    "\n",
    "'''Métrica de Exactitud'''\n",
    "print('Accuracy (Linear Kernel): ', \"%.2f\" % (np.mean(results['test_accuracy'])*100))\n",
    "'''Métrica de Puntuación f1'''\n",
    "print('F1 (Linear Kernel): ', \"%.2f\" % (np.mean(results['test_f1_score'])*100))\n",
    "'''Métrica de precisión'''\n",
    "print('Precision (Linear Kernel): ', \"%.2f\" % (np.mean(results['test_precision'])*100))\n",
    "'''Métrica de Sensibilidad'''\n",
    "print('Recall (Linear Kernel): ', \"%.2f\" % (np.mean(results['test_recall'])*100))"
   ]
  },
  {
   "cell_type": "markdown",
   "id": "fMXY9qrJDbqm",
   "metadata": {
    "id": "fMXY9qrJDbqm"
   },
   "source": [
    " <h1><center> <font color='red'>Matriz de Confusión</font></center></h1> "
   ]
  },
  {
   "cell_type": "code",
   "execution_count": 11,
   "id": "u2IxKZhQwGxE",
   "metadata": {
    "colab": {
     "base_uri": "https://localhost:8080/",
     "height": 350
    },
    "id": "u2IxKZhQwGxE",
    "outputId": "3024cb46-2e6c-49e8-e1bb-46dec901217b"
   },
   "outputs": [
    {
     "name": "stderr",
     "output_type": "stream",
     "text": [
      "C:\\Users\\Joelv\\anaconda3\\envs\\tf\\lib\\site-packages\\sklearn\\utils\\deprecation.py:87: FutureWarning: Function plot_confusion_matrix is deprecated; Function `plot_confusion_matrix` is deprecated in 1.0 and will be removed in 1.2. Use one of the class methods: ConfusionMatrixDisplay.from_predictions or ConfusionMatrixDisplay.from_estimator.\n",
      "  warnings.warn(msg, category=FutureWarning)\n"
     ]
    },
    {
     "data": {
      "image/png": "[encoded data removed]",
      "text/plain": [
       "<Figure size 432x288 with 2 Axes>"
      ]
     },
     "metadata": {
      "needs_background": "light"
     },
     "output_type": "display_data"
    }
   ],
   "source": [
    "'''Matriz de confusión'''\n",
    "confusion_matrix(y_test, linear_pred)\n",
    "plot_confusion_matrix(linear_grid, X_test, y_test, cmap=plt.cm.Blues)\n",
    "plt.title(\"Matriz de Confusión\")\n",
    "plt.show()"
   ]
  },
  {
   "cell_type": "code",
   "execution_count": null,
   "id": "Qg8EIWaQEJrg",
   "metadata": {
    "id": "Qg8EIWaQEJrg"
   },
   "outputs": [],
   "source": []
  }
 ],
 "metadata": {
  "accelerator": "GPU",
  "colab": {
   "collapsed_sections": [],
   "name": "SVM_Kernel_Linear.ipynb",
   "provenance": []
  },
  "gpuClass": "standard",
  "kernelspec": {
   "display_name": "Python 3 (ipykernel)",
   "language": "python",
   "name": "python3"
  },
  "language_info": {
   "codemirror_mode": {
    "name": "ipython",
    "version": 3
   },
   "file_extension": ".py",
   "mimetype": "text/x-python",
   "name": "python",
   "nbconvert_exporter": "python",
   "pygments_lexer": "ipython3",
   "version": "3.9.12"
  }
 },
 "nbformat": 4,
 "nbformat_minor": 5
}
